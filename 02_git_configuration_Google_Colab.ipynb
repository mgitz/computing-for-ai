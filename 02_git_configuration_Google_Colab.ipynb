{
  "cells": [
    {
      "cell_type": "markdown",
      "id": "2ab10303-851b-47bf-a2c1-23e98a8a99ad",
      "metadata": {
        "id": "2ab10303-851b-47bf-a2c1-23e98a8a99ad"
      },
      "source": [
        "![Practicum AI Logo image](https://github.com/PracticumAI/practicumai.github.io/blob/main/images/logo/PracticumAI_logo_250x50.png?raw=true) <img src='https://github.com/PracticumAI/practicumai.github.io/blob/main/images/icons/practicumai_python.png?raw=true' align='right' width=50>\n",
        "\n",
        "# *Practicum AI: Computing for AI*\n",
        "## Module 3: Git and GitHub\n",
        "## GitHub Account Configuration using Google Colab\n",
        "\n",
        "\n",
        "\n",
        "***"
      ]
    },
    {
      "cell_type": "markdown",
      "id": "cfae84fd-91d8-4c0a-9e39-ca9eeca2bcc5",
      "metadata": {
        "id": "cfae84fd-91d8-4c0a-9e39-ca9eeca2bcc5"
      },
      "source": [
        "This notebook will help you get your GitHub account configured if you are using Google Colab. **If you plan to use HiPerGator, [use this notebook instead](02_git_configuration_HiPerGator.ipynb).**\n"
      ]
    },
    {
      "cell_type": "markdown",
      "id": "9c0cd615-1c42-425e-aae0-e22ceb89d3cc",
      "metadata": {
        "id": "9c0cd615-1c42-425e-aae0-e22ceb89d3cc"
      },
      "source": [
        "## Step 1: Connect your GitHub account to Google\n",
        "\n",
        "In the File menu, select File > Save a copy in GitHub\n",
        "\n"
      ]
    },
    {
      "cell_type": "markdown",
      "id": "f161a0d7-ed0e-4655-8a70-3675bdc5181c",
      "metadata": {
        "id": "f161a0d7-ed0e-4655-8a70-3675bdc5181c"
      },
      "source": [
        "## That's it!!\n",
        "\n",
        "Your account shoudl be setup and ready to go!"
      ]
    },
    {
      "cell_type": "code",
      "execution_count": null,
      "id": "d37ad3e1-8a65-4906-b770-3bd49f2d2d99",
      "metadata": {
        "id": "d37ad3e1-8a65-4906-b770-3bd49f2d2d99"
      },
      "outputs": [],
      "source": []
    }
  ],
  "metadata": {
    "kernelspec": {
      "display_name": "UFRC Python-3.10",
      "language": "python",
      "name": "python3-3.10-ufrc"
    },
    "language_info": {
      "codemirror_mode": {
        "name": "ipython",
        "version": 3
      },
      "file_extension": ".py",
      "mimetype": "text/x-python",
      "name": "python",
      "nbconvert_exporter": "python",
      "pygments_lexer": "ipython3",
      "version": "3.10.5"
    },
    "colab": {
      "provenance": []
    }
  },
  "nbformat": 4,
  "nbformat_minor": 5
}